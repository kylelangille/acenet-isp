{
 "cells": [
  {
   "cell_type": "code",
   "execution_count": 2,
   "id": "e331b9e3-7151-41c4-bc0a-e9c3938ce432",
   "metadata": {},
   "outputs": [],
   "source": [
    "import pandas as pd\n",
    "import numpy as np\n",
    "import re"
   ]
  },
  {
   "cell_type": "markdown",
   "id": "140b729b-d3e8-418f-aff5-4d2f8cef7b26",
   "metadata": {},
   "source": [
    "### Clean and standardize the data"
   ]
  },
  {
   "cell_type": "code",
   "execution_count": 18,
   "id": "ed9123ef-0216-43b9-83bb-e44af5b28051",
   "metadata": {},
   "outputs": [
    {
     "name": "stderr",
     "output_type": "stream",
     "text": [
      "C:\\Users\\kylea\\AppData\\Local\\Temp\\ipykernel_10696\\568155380.py:60: UserWarning: This pattern is interpreted as a regular expression, and has match groups. To actually get the groups, use str.extract.\n",
      "  df = df[~df[column_name].str.contains(pattern, case=False, regex=True, na=False)]\n"
     ]
    }
   ],
   "source": [
    "file_path = \"ufo_data.csv\"\n",
    "df = pd.read_csv(file_path)\n",
    "\n",
    "df_dropped_nas = df.dropna(subset=[\"shape\", \"duration\", \"occurred_date_time\"])\n",
    "\n",
    "\n",
    "# Cleaning function takes in dataframe, column, and patterns to filter out worthless and/or inconsistent values\n",
    "# Function also standardizes the date and filters out the time in \"occurred_date_time\" column\n",
    "def clean_dataframe(df, column_name, patterns):\n",
    "    for pattern in patterns:\n",
    "        df = df[~df[column_name].str.contains(pattern, regex=True, na=False)]\n",
    "\n",
    "    df[column_name] = pd.to_datetime(df[column_name], errors=\"coerce\", format=\"%m/%d/%y %H:%M\")\n",
    "\n",
    "    df = df.dropna(subset=[column_name])\n",
    "\n",
    "    df[column_name] = df[column_name].dt.strftime('%m/%d/%y')\n",
    "    \n",
    "    return df\n",
    "\n",
    "column_name = \"occurred_date_time\"\n",
    "patterns = [r'\\?', r'unknown', r'&', r'ongoing']\n",
    "\n",
    "df_cleaned_dates = clean_dataframe(df_dropped_nas, column_name, patterns)\n",
    "\n",
    "# Cleaning function to standardize time measurement in \"duration\" column to seconds\n",
    "def clean_duration(df, column_name, filter_values):\n",
    "    pattern = \"|\".join(filter_values)\n",
    "    df_cleaned = df[~df[column_name].str.contains(pattern, case=False, na=False)]\n",
    "\n",
    "    def convert_to_seconds(duration):\n",
    "    \n",
    "        duration = duration.lower()\n",
    "\n",
    "        match = re.match(r'(\\d+)\\s*(seconds|minutes|hours?)', duration)\n",
    "\n",
    "        if match:\n",
    "            value = int(match.group(1))\n",
    "            unit = match.group(2)\n",
    "\n",
    "            if 'second' in unit:\n",
    "                return value\n",
    "            elif 'minute' in unit:\n",
    "                return value * 60\n",
    "            elif 'hour' in unit:\n",
    "                return value * 3600\n",
    "        return None\n",
    "        \n",
    "    df_cleaned.loc[:, column_name] = df_cleaned[column_name].apply(convert_to_seconds)\n",
    "    df_cleaned = df_cleaned.dropna(subset=[column_name])\n",
    "    return df_cleaned\n",
    "\n",
    "filter_values = [\"months\", \"years\", \"constant\", \"few\", \"ongoing\"]\n",
    "\n",
    "df_cleaned_duration = clean_duration(df_cleaned_dates, \"duration\", filter_values)\n",
    "\n",
    "# Cleaning function to filter out non-US locations\n",
    "def clean_city(df, column_name, filter_values):\n",
    "    pattern = \"|\".join(filter_values)\n",
    "    df = df[~df[column_name].str.contains(pattern, case=False, regex=True, na=False)]\n",
    "\n",
    "    df = df.dropna(subset=[column_name])\n",
    "\n",
    "    return df\n",
    "\n",
    "city_filters = [\"(Canada)\", \"(Portugal)\", \"(Spain)\", \"(Germany)\", \"(UK)\", \"(England)\", \"(Brazil)\", \"(Ecuador)\", \n",
    "                \"(Estonia)\", \"(Puerto Rico)\", \"(South Africa)\", \"(France)\", \"(Philippines)\", \"(Nigeria)\", \n",
    "                \"(Holland)\", \"(Australia)\", \"(Ireland)\", \"(Colombia)\", \"(Scotland)\", \"(Cyprus)\", \"(South Korea)\",\n",
    "                \"(Norway)\", \"(Croatia)\", \"(Italy)\", \"(Singapore)\", \"(Chile)\", \"(Malta)\", \"(Greece)\", \"(Syria)\", \n",
    "                \"(Sweden)\", \"(Kyrgyzstan)\", \"(Myanmar)\", \"(Japan)\", \"(Mexico)\", \"(Argentina)\", \"(Egypt)\", \"(Poland)\",\n",
    "                \"(Turkey)\", \"(Iraq)\", \"(India)\", \"(Jamaica)\", \"(Malaysia)\", \"(Venezuela)\", \"(Israel)\", \"(Kosovo)\", \n",
    "                \"(Belize)\", \"(Belgium)\", \"(Jordan)\", \"(Costa Rica)\", \"(Netherlands)\", \"(The Netherlands)\", \"(New Zealand)\",\n",
    "                \"(Corsica)\", \"(in former Yugoslavia)\", \"(Bahamas)\", \"(location unspecified)\", \"(Serbia)\"] \n",
    "\n",
    "df_cleaned_city = clean_city(df_cleaned_duration, \"city\", city_filters)\n",
    "\n",
    "df_cleaned_city.dropna()\n",
    "\n",
    "output_path = \"cleaned_data.csv\"\n",
    "df_cleaned_city.to_csv(output_path, index=False)"
   ]
  },
  {
   "cell_type": "code",
   "execution_count": null,
   "id": "dab57665-9000-40ce-b475-36be13373e3a",
   "metadata": {},
   "outputs": [],
   "source": []
  }
 ],
 "metadata": {
  "kernelspec": {
   "display_name": "Python 3 (ipykernel)",
   "language": "python",
   "name": "python3"
  },
  "language_info": {
   "codemirror_mode": {
    "name": "ipython",
    "version": 3
   },
   "file_extension": ".py",
   "mimetype": "text/x-python",
   "name": "python",
   "nbconvert_exporter": "python",
   "pygments_lexer": "ipython3",
   "version": "3.11.7"
  }
 },
 "nbformat": 4,
 "nbformat_minor": 5
}
